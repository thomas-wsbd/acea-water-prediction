{
 "cells": [
  {
   "cell_type": "code",
   "execution_count": 6,
   "metadata": {
    "collapsed": true,
    "jupyter": {
     "outputs_hidden": true
    }
   },
   "outputs": [
    {
     "name": "stdout",
     "output_type": "stream",
     "text": [
      "Requirement already satisfied: nb_black in /home/opt/anaconda/lib/python3.8/site-packages (1.0.7)\n",
      "Requirement already satisfied: lightgbm in /home/opt/anaconda/lib/python3.8/site-packages (3.0.0.99)\n",
      "Requirement already satisfied: pyarrow in /home/opt/anaconda/lib/python3.8/site-packages (1.0.0)\n",
      "Requirement already satisfied: umap-learn in /home/opt/anaconda/lib/python3.8/site-packages (0.4.6)\n",
      "Collecting BorutaShap\n",
      "  Downloading BorutaShap-1.0.15-py3-none-any.whl (13 kB)\n",
      "Requirement already satisfied: black>='19.3'; python_version >= \"3.6\" in /home/opt/anaconda/lib/python3.8/site-packages (from nb_black) (19.10b0)\n",
      "Requirement already satisfied: ipython in /home/opt/anaconda/lib/python3.8/site-packages (from nb_black) (7.16.1)\n",
      "Requirement already satisfied: numpy in /home/opt/anaconda/lib/python3.8/site-packages (from lightgbm) (1.18.5)\n",
      "Requirement already satisfied: scipy in /home/opt/anaconda/lib/python3.8/site-packages (from lightgbm) (1.5.2)\n",
      "Requirement already satisfied: scikit-learn!=0.22.0 in /home/opt/anaconda/lib/python3.8/site-packages (from lightgbm) (0.23.1)\n",
      "Requirement already satisfied: numba!=0.47,>=0.46 in /home/opt/anaconda/lib/python3.8/site-packages (from umap-learn) (0.50.1)\n",
      "Requirement already satisfied: shap>=0.34.0 in /home/opt/anaconda/lib/python3.8/site-packages (from BorutaShap) (0.38.1)\n",
      "Requirement already satisfied: statsmodels in /home/opt/anaconda/lib/python3.8/site-packages (from BorutaShap) (0.11.1)\n",
      "Requirement already satisfied: tqdm in /home/opt/anaconda/lib/python3.8/site-packages (from BorutaShap) (4.47.0)\n",
      "Requirement already satisfied: pandas in /home/opt/anaconda/lib/python3.8/site-packages (from BorutaShap) (1.1.4)\n",
      "Requirement already satisfied: matplotlib in /home/opt/anaconda/lib/python3.8/site-packages (from BorutaShap) (3.2.2)\n",
      "Requirement already satisfied: seaborn in /home/opt/anaconda/lib/python3.8/site-packages (from BorutaShap) (0.10.1)\n",
      "Requirement already satisfied: pathspec<1,>=0.6 in /home/opt/anaconda/lib/python3.8/site-packages (from black>='19.3'; python_version >= \"3.6\"->nb_black) (0.8.0)\n",
      "Requirement already satisfied: regex in /home/opt/anaconda/lib/python3.8/site-packages (from black>='19.3'; python_version >= \"3.6\"->nb_black) (2020.6.8)\n",
      "Requirement already satisfied: typed-ast>=1.4.0 in /home/opt/anaconda/lib/python3.8/site-packages (from black>='19.3'; python_version >= \"3.6\"->nb_black) (1.4.1)\n",
      "Requirement already satisfied: click>=6.5 in /home/opt/anaconda/lib/python3.8/site-packages (from black>='19.3'; python_version >= \"3.6\"->nb_black) (6.7)\n",
      "Requirement already satisfied: appdirs in /home/opt/anaconda/lib/python3.8/site-packages (from black>='19.3'; python_version >= \"3.6\"->nb_black) (1.4.4)\n",
      "Requirement already satisfied: attrs>=18.1.0 in /home/opt/anaconda/lib/python3.8/site-packages (from black>='19.3'; python_version >= \"3.6\"->nb_black) (19.3.0)\n",
      "Requirement already satisfied: toml>=0.9.4 in /home/opt/anaconda/lib/python3.8/site-packages (from black>='19.3'; python_version >= \"3.6\"->nb_black) (0.10.1)\n",
      "Requirement already satisfied: pygments in /home/opt/anaconda/lib/python3.8/site-packages (from ipython->nb_black) (2.6.1)\n",
      "Requirement already satisfied: prompt-toolkit!=3.0.0,!=3.0.1,<3.1.0,>=2.0.0 in /home/opt/anaconda/lib/python3.8/site-packages (from ipython->nb_black) (3.0.5)\n",
      "Requirement already satisfied: backcall in /home/opt/anaconda/lib/python3.8/site-packages (from ipython->nb_black) (0.2.0)\n",
      "Requirement already satisfied: traitlets>=4.2 in /home/opt/anaconda/lib/python3.8/site-packages (from ipython->nb_black) (4.3.3)\n",
      "Requirement already satisfied: pickleshare in /home/opt/anaconda/lib/python3.8/site-packages (from ipython->nb_black) (0.7.5)\n",
      "Requirement already satisfied: setuptools>=18.5 in /home/opt/anaconda/lib/python3.8/site-packages (from ipython->nb_black) (49.2.0.post20200714)\n",
      "Requirement already satisfied: decorator in /home/opt/anaconda/lib/python3.8/site-packages (from ipython->nb_black) (4.4.2)\n",
      "Requirement already satisfied: pexpect; sys_platform != \"win32\" in /home/opt/anaconda/lib/python3.8/site-packages (from ipython->nb_black) (4.8.0)\n",
      "Requirement already satisfied: jedi>=0.10 in /home/opt/anaconda/lib/python3.8/site-packages (from ipython->nb_black) (0.17.1)\n",
      "Requirement already satisfied: joblib>=0.11 in /home/opt/anaconda/lib/python3.8/site-packages (from scikit-learn!=0.22.0->lightgbm) (0.16.0)\n",
      "Requirement already satisfied: threadpoolctl>=2.0.0 in /home/opt/anaconda/lib/python3.8/site-packages (from scikit-learn!=0.22.0->lightgbm) (2.1.0)\n",
      "Requirement already satisfied: llvmlite<0.34,>=0.33.0.dev0 in /home/opt/anaconda/lib/python3.8/site-packages (from numba!=0.47,>=0.46->umap-learn) (0.33.0+1.g022ab0f)\n",
      "Requirement already satisfied: slicer==0.0.7 in /home/opt/anaconda/lib/python3.8/site-packages (from shap>=0.34.0->BorutaShap) (0.0.7)\n",
      "Requirement already satisfied: cloudpickle in /home/opt/anaconda/lib/python3.8/site-packages (from shap>=0.34.0->BorutaShap) (1.6.0)\n",
      "Requirement already satisfied: patsy>=0.5 in /home/opt/anaconda/lib/python3.8/site-packages (from statsmodels->BorutaShap) (0.5.1)\n",
      "Requirement already satisfied: python-dateutil>=2.7.3 in /home/opt/anaconda/lib/python3.8/site-packages (from pandas->BorutaShap) (2.8.1)\n",
      "Requirement already satisfied: pytz>=2017.2 in /home/opt/anaconda/lib/python3.8/site-packages (from pandas->BorutaShap) (2017.2)\n",
      "Requirement already satisfied: pyparsing!=2.0.4,!=2.1.2,!=2.1.6,>=2.0.1 in /home/opt/anaconda/lib/python3.8/site-packages (from matplotlib->BorutaShap) (2.4.7)\n",
      "Requirement already satisfied: cycler>=0.10 in /home/opt/anaconda/lib/python3.8/site-packages (from matplotlib->BorutaShap) (0.10.0)\n",
      "Requirement already satisfied: kiwisolver>=1.0.1 in /home/opt/anaconda/lib/python3.8/site-packages (from matplotlib->BorutaShap) (1.2.0)\n",
      "Requirement already satisfied: wcwidth in /home/opt/anaconda/lib/python3.8/site-packages (from prompt-toolkit!=3.0.0,!=3.0.1,<3.1.0,>=2.0.0->ipython->nb_black) (0.2.5)\n",
      "Requirement already satisfied: ipython-genutils in /home/opt/anaconda/lib/python3.8/site-packages (from traitlets>=4.2->ipython->nb_black) (0.2.0)\n",
      "Requirement already satisfied: six in /home/opt/anaconda/lib/python3.8/site-packages (from traitlets>=4.2->ipython->nb_black) (1.13.0)\n",
      "Requirement already satisfied: ptyprocess>=0.5 in /home/opt/anaconda/lib/python3.8/site-packages (from pexpect; sys_platform != \"win32\"->ipython->nb_black) (0.6.0)\n",
      "Requirement already satisfied: parso<0.8.0,>=0.7.0 in /home/opt/anaconda/lib/python3.8/site-packages (from jedi>=0.10->ipython->nb_black) (0.7.0)\n",
      "Installing collected packages: BorutaShap\n",
      "Successfully installed BorutaShap-1.0.15\n"
     ]
    }
   ],
   "source": [
    "!pip install nb_black lightgbm pyarrow umap-learn BorutaShap"
   ]
  },
  {
   "cell_type": "code",
   "execution_count": 2,
   "metadata": {},
   "outputs": [
    {
     "name": "stdout",
     "output_type": "stream",
     "text": [
      "The lab_black extension is already loaded. To reload it, use:\n",
      "  %reload_ext lab_black\n"
     ]
    }
   ],
   "source": [
    "%load_ext lab_black\n",
    "%reload_ext autoreload\n",
    "%autoreload 2\n",
    "import pandas as pd\n",
    "import numpy as np\n",
    "import os\n",
    "import glob\n",
    "import tqdm\n",
    "from statsmodels.tsa.seasonal import seasonal_decompose\n",
    "from statsmodels.tsa.seasonal import STL\n",
    "import umap\n",
    "import lightgbm as lgb\n",
    "import numpy as np\n",
    "\n",
    "from sklearn import metrics\n",
    "from sklearn.metrics import confusion_matrix\n",
    "from sklearn.preprocessing import StandardScaler\n",
    "from sklearn.decomposition import PCA\n",
    "from sklearn.pipeline import Pipeline\n",
    "\n",
    "import matplotlib.pyplot as plt\n",
    "\n",
    "from utils import DATA_SETS, gather_df, prepare_df"
   ]
  },
  {
   "cell_type": "code",
   "execution_count": 3,
   "metadata": {},
   "outputs": [],
   "source": [
    "results = []\n",
    "\n",
    "for dataset in DATA_SETS:\n",
    "    df = gather_df(dataset, True)\n",
    "    df = prepare_df(df, True, False, True)\n",
    "\n",
    "    for target_col in [c for c in df.columns if \"target\" in c]:\n",
    "        for shift in [30, 60]:\n",
    "            y = df[target_col].pct_change(shift).shift(-shift)\n",
    "\n",
    "            for split in range(3000, len(df.index) - 100, 100):\n",
    "\n",
    "                X_train = df.iloc[:split]\n",
    "                X_test = df.iloc[split + shift :]\n",
    "                y_train = y.iloc[:split]\n",
    "                y_test = y.iloc[split + shift :]\n",
    "\n",
    "                x_filtered = ~pd.isna(y_train)\n",
    "\n",
    "                if len(X_train[x_filtered]) < 1500:\n",
    "                    continue\n",
    "                if len(X_test) < 10:\n",
    "                    continue\n",
    "                y_train = y_train[x_filtered]\n",
    "\n",
    "                rmodel = lgb.LGBMRegressor()\n",
    "                rmodel.fit(X_train[x_filtered], np.clip(y_train, -1, 10))\n",
    "\n",
    "                p = rmodel.predict(X_test)\n",
    "                dfp = pd.DataFrame(\n",
    "                    {\n",
    "                        \"p\": p,\n",
    "                        \"y\": y_test,\n",
    "                        \"y_orig\": df[target_col].iloc[split + shift :] * y_test,\n",
    "                        \"p_orig\": df[target_col].iloc[split + shift :] * p,\n",
    "                    }\n",
    "                ).iloc[:100]\n",
    "                dfp = dfp[~pd.isna(dfp.y)]\n",
    "                mae = np.mean(np.abs(dfp.p - dfp.y))\n",
    "                rmse = np.sqrt(np.mean(dfp.p - dfp.y) ** 2)\n",
    "\n",
    "                results.append(\n",
    "                    {\n",
    "                        \"dataset\": dataset,\n",
    "                        \"split\": split,\n",
    "                        \"mae\": mae,\n",
    "                        \"rmse\": rmse,\n",
    "                        \"type\": \"all\",\n",
    "                        \"target_col\": target_col,\n",
    "                        \"shift\": shift,\n",
    "                        \"mae_orig\": np.mean(np.abs(dfp.p_orig - dfp.y_orig)),\n",
    "                        \"rmse_orig\": np.sqrt(np.mean(dfp.p_orig - dfp.y_orig) ** 2),\n",
    "                    }\n",
    "                )\n",
    "\n",
    "                pd.DataFrame(results).to_json(\"./simres-umap.json\")"
   ]
  }
 ],
 "metadata": {
  "kernelspec": {
   "display_name": "Python 3",
   "language": "python",
   "name": "python3"
  },
  "language_info": {
   "codemirror_mode": {
    "name": "ipython",
    "version": 3
   },
   "file_extension": ".py",
   "mimetype": "text/x-python",
   "name": "python",
   "nbconvert_exporter": "python",
   "pygments_lexer": "ipython3",
   "version": "3.8.3"
  }
 },
 "nbformat": 4,
 "nbformat_minor": 4
}
